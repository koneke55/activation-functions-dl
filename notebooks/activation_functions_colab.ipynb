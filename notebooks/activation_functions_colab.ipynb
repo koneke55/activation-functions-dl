{
  "cells": [
    {
      "cell_type": "markdown",
      "metadata": {},
      "source": [
        "# Activation Functions (Colab)\n",
        "\n",
        "Use this notebook to experiment with activation functions from `src/activations.py`.\n",
        "\n",
        "Run the next cell to set up imports.\n"
      ]
    },
    {
      "cell_type": "code",
      "execution_count": null,
      "metadata": {},
      "outputs": [],
      "source": [
        "import sys\n",
        "from pathlib import Path\n",
        "import numpy as np\n",
        "import matplotlib.pyplot as plt\n",
        "\n",
        "# Adjust path if running in Colab: mount or upload project, then set ROOT accordingly\n",
        "ROOT = Path('..').resolve()\n",
        "SRC = ROOT / 'src'\n",
        "if str(SRC) not in sys.path:\n",
        "    sys.path.insert(0, str(SRC))\n",
        "\n",
        "from activations import sigmoid, tanh, relu, gelu, swish, mish\n",
        "\n",
        "x = np.linspace(-6, 6, 1000)\n",
        "plt.figure(figsize=(8,5))\n",
        "for fn in [sigmoid, tanh, relu, gelu, swish, mish]:\n",
        "    plt.plot(x, fn(x), label=fn.__name__)\n",
        "plt.grid(True, alpha=0.3)\n",
        "plt.legend()\n",
        "plt.title('Selected Activation Functions')\n",
        "plt.show()\n"
      ]
    }
  ],
  "metadata": {
    "language_info": {
      "name": "python"
    }
  },
  "nbformat": 4,
  "nbformat_minor": 2
}
